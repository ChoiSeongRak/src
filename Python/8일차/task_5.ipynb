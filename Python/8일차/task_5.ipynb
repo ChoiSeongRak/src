{
 "cells": [
  {
   "cell_type": "markdown",
   "metadata": {},
   "source": [
    "[문제]\n",
    "\n",
    "'Account' 클래스를 작성하세요. \n",
    "\n",
    "이 클래스는 소유자(owner)와 잔액(balance)을 속성으로 가지며, 잔액은 프라이빗 변수로 선언합니다. \n",
    "\n",
    "'deposit'와 'withdraw' 두 개의 메소드를 통해 잔액을 조작할 수 있도록 하세요. \n",
    "\n",
    "이 때, 잔액은 음수가 될 수 없도록 체크해야 합니다. 'Account' 객체를 생성하고,<br>\n",
    "입금 및 출금 작업을 시뮬레이션한 후, 최종 잔액을 출력하세요."
   ]
  },
  {
   "cell_type": "code",
   "execution_count": 14,
   "metadata": {},
   "outputs": [
    {
     "name": "stdout",
     "output_type": "stream",
     "text": [
      "5000원 입금 완료 (현재 잔액 15000원)\n",
      "14000원 출금 완료 (현재 잔액 1000원)\n",
      "최종 잔액은 1000원 입니다\n"
     ]
    }
   ],
   "source": [
    "class Account:\n",
    "    def __init__(self, owner, balance):\n",
    "        self.owner = owner\n",
    "        self.__balance = balance\n",
    "        \n",
    "    def deposit(self,money):\n",
    "        if money > 0:\n",
    "            self.__balance += money\n",
    "            print(f'{money}원 입금 완료 (현재 잔액 {self.__balance}원)')\n",
    "        else:\n",
    "            print(\"입금 실패 , 1원 이상부터 입금 가능합니다.\")\n",
    "    def withdraw(self,money):\n",
    "        if 0 < money <= self.__balance:\n",
    "            self.__balance -= money\n",
    "            print(f'{money}원 출금 완료 (현재 잔액 {self.__balance}원)')\n",
    "        else:\n",
    "            print(f\"출금 실패, 1원 이상 {self.__balance}원 이하 출금 가능합니다.\")\n",
    "    def result(self):\n",
    "        return self.__balance\n",
    "    \n",
    "account = Account(\"최성락\", 10000)\n",
    "account.deposit(5000)\n",
    "account.withdraw(14000)\n",
    "print(f'최종 잔액은 {account.result()}원 입니다')\n",
    "            \n",
    "            \n",
    "    \n",
    "        "
   ]
  },
  {
   "cell_type": "code",
   "execution_count": null,
   "metadata": {},
   "outputs": [],
   "source": []
  }
 ],
 "metadata": {
  "kernelspec": {
   "display_name": "Python 3",
   "language": "python",
   "name": "python3"
  },
  "language_info": {
   "codemirror_mode": {
    "name": "ipython",
    "version": 3
   },
   "file_extension": ".py",
   "mimetype": "text/x-python",
   "name": "python",
   "nbconvert_exporter": "python",
   "pygments_lexer": "ipython3",
   "version": "3.9.6"
  }
 },
 "nbformat": 4,
 "nbformat_minor": 2
}
