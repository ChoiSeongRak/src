{
 "cells": [
  {
   "cell_type": "markdown",
   "metadata": {},
   "source": [
    "여러분이 자주 사용하는 수학적 연산<br>\n",
    "(예: 삼각형 넓이, 원의 넓이, 직육면체의 넓이)을 수행하는 함수들을 포함하는 mymath.py라는 이름의 모듈을 만드세요. \n",
    "\n",
    "이 모듈을 사용하여 작성된 함수들을 실제로 임포트하고 사용하는 간단한 프로그램을 작성하세요."
   ]
  },
  {
   "cell_type": "code",
   "execution_count": 6,
   "metadata": {},
   "outputs": [
    {
     "name": "stdout",
     "output_type": "stream",
     "text": [
      "삼각형의 넓이: 10.0\n",
      "원의 넓이: 50.26548245743669\n",
      "직육면체 넓이: 130\n"
     ]
    }
   ],
   "source": [
    "#실행파일\n",
    "\n",
    "import mymath as mymy\n",
    "import math\n",
    "\n",
    "base = int(input(\"밑변 길이 입력:\"))\n",
    "height= int(input(\"높이 입력:\"))\n",
    "print(\"삼각형의 넓이:\", mymy.triangle_area(base, height))\n",
    "\n",
    "radius = int(input(\"반지름을 입력\"))\n",
    "print(\"원의 넓이:\", mymy.circle_area(radius))\n",
    "\n",
    "length = int(input(\"가로의 길이 입력\"))\n",
    "width = int(input(\"세로의 길이 입력\"))\n",
    "height_squ = int(input(\"높이를 입력\"))\n",
    "print(\"직육면체 넓이:\", mymy.cuboid_area(length, width, height_squ))"
   ]
  },
  {
   "cell_type": "code",
   "execution_count": null,
   "metadata": {},
   "outputs": [],
   "source": [
    "# mymath 모듈파일\n",
    "import math\n",
    "def triangle_area(base, height):\n",
    "    return base * height / 2\n",
    "\n",
    "def circle_area(radius):\n",
    "    return math.pi * radius ** 2\n",
    "\n",
    "def cuboid_area(length, width, height_squ):\n",
    "    return 2 * (length * width + width * height_squ + height_squ * length)"
   ]
  }
 ],
 "metadata": {
  "kernelspec": {
   "display_name": "Python 3",
   "language": "python",
   "name": "python3"
  },
  "language_info": {
   "codemirror_mode": {
    "name": "ipython",
    "version": 3
   },
   "file_extension": ".py",
   "mimetype": "text/x-python",
   "name": "python",
   "nbconvert_exporter": "python",
   "pygments_lexer": "ipython3",
   "version": "3.9.6"
  }
 },
 "nbformat": 4,
 "nbformat_minor": 2
}
